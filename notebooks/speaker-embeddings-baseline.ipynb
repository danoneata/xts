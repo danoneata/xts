{
 "cells": [
  {
   "cell_type": "code",
   "execution_count": null,
   "metadata": {},
   "outputs": [],
   "source": [
    "%cd .."
   ]
  },
  {
   "cell_type": "code",
   "execution_count": null,
   "metadata": {},
   "outputs": [],
   "source": [
    "import os\n",
    "\n",
    "import seaborn as sns\n",
    "\n",
    "import matplotlib\n",
    "from matplotlib import pyplot as plt\n",
    "\n",
    "from sklearn.manifold import TSNE\n",
    "\n",
    "from scripts import extract_speaker_embeddings as ese"
   ]
  },
  {
   "cell_type": "code",
   "execution_count": null,
   "metadata": {},
   "outputs": [],
   "source": [
    "sns.set_context(\"talk\")\n",
    "sns.set_style(\"white\")"
   ]
  },
  {
   "cell_type": "code",
   "execution_count": null,
   "metadata": {},
   "outputs": [],
   "source": [
    "def load_paths(base_path, filelist_path):\n",
    "    def parse_line(line):\n",
    "        f, s = line.split()\n",
    "        return s, f\n",
    "    with open(filelist_path, \"r\") as f:\n",
    "        lines = [parse_line(line) for line in f.readlines()]\n",
    "    return [os.path.join(base_path, s, f + \".wav\") for s, f in lines]    "
   ]
  },
  {
   "cell_type": "code",
   "execution_count": null,
   "metadata": {},
   "outputs": [],
   "source": [
    "parser = ese.get_arg_parser()\n",
    "args = parser.parse_args(\"--dataset grid\".split())"
   ]
  },
  {
   "cell_type": "markdown",
   "metadata": {},
   "source": [
    "## Experiments on seen speakers"
   ]
  },
  {
   "cell_type": "code",
   "execution_count": null,
   "metadata": {},
   "outputs": [],
   "source": [
    "paths = load_paths(\"output/synth-samples/grid-multi-test-magnus\", \"data/grid/filelists/multi-speaker-test.txt\")\n",
    "feats = ese.extract_features(paths, args)"
   ]
  },
  {
   "cell_type": "code",
   "execution_count": null,
   "metadata": {},
   "outputs": [],
   "source": [
    "subjects = [os.path.dirname(path) for path in paths]\n",
    "num_subjects = len(set(subjects))\n",
    "print(num_subjects)"
   ]
  },
  {
   "cell_type": "code",
   "execution_count": null,
   "metadata": {},
   "outputs": [],
   "source": [
    "tsne = TSNE()\n",
    "Y = tsne.fit_transform(feats)"
   ]
  },
  {
   "cell_type": "code",
   "execution_count": null,
   "metadata": {},
   "outputs": [],
   "source": [
    "plt.figure(figsize=(4, 4))\n",
    "sns.set_palette(\"hls\", num_subjects)\n",
    "\n",
    "for i, s in enumerate(set(subjects)):\n",
    "    idxs = [s == t for t in subjects]\n",
    "    plt.scatter(Y[idxs, 0], Y[idxs, 1])\n",
    "    \n",
    "plt.xticks([])\n",
    "plt.yticks([])\n",
    "\n",
    "plt.savefig(\"/home/doneata/papers/2020-interspeech-xts/imgs/speaker-embeddings-baseline-seen.pdf\", bbox_inches='tight')"
   ]
  },
  {
   "cell_type": "markdown",
   "metadata": {},
   "source": [
    "## Experiments on seen speakers – fixed embedding\n",
    "Code to run to prepare data:\n",
    "```bash\n",
    "python predict.py -m magnus-multi-speaker --model-path output/models/grid_multi-speaker_magnus-multi-speaker.pth -d grid --filelist multi-speaker -v -e mean -o output/predictions/grid-multi-test-magnus-multi-speaker-mean-emb.npz\n",
    "python synthesize_spectro.py ~/work/xts/output/predictions/grid-multi-test-magnus-multi-speaker-mean-emb.npz\n",
    "```"
   ]
  },
  {
   "cell_type": "code",
   "execution_count": null,
   "metadata": {},
   "outputs": [],
   "source": [
    "paths = load_paths(\"output/synth-samples/grid-multi-test-magnus-multi-speaker-mean-emb\", \"data/grid/filelists/multi-speaker-test.txt\")\n",
    "feats = ese.extract_features(paths, args)"
   ]
  },
  {
   "cell_type": "code",
   "execution_count": null,
   "metadata": {},
   "outputs": [],
   "source": [
    "subjects = [os.path.dirname(path) for path in paths]\n",
    "num_subjects = len(set(subjects))\n",
    "print(num_subjects)"
   ]
  },
  {
   "cell_type": "code",
   "execution_count": null,
   "metadata": {},
   "outputs": [],
   "source": [
    "tsne = TSNE()\n",
    "Y = tsne.fit_transform(feats)"
   ]
  },
  {
   "cell_type": "code",
   "execution_count": null,
   "metadata": {},
   "outputs": [],
   "source": [
    "plt.figure(figsize=(4, 4))\n",
    "sns.set_palette(\"hls\", num_subjects)\n",
    "\n",
    "for i, s in enumerate(set(subjects)):\n",
    "    idxs = [s == t for t in subjects]\n",
    "    plt.scatter(Y[idxs, 0], Y[idxs, 1])\n",
    "    \n",
    "plt.xticks([])\n",
    "plt.yticks([])\n",
    "\n",
    "plt.savefig(\"/home/doneata/papers/2020-interspeech-xts/imgs/speaker-embeddings-baseline-seen-fixed-emb.pdf\", bbox_inches='tight')"
   ]
  },
  {
   "cell_type": "markdown",
   "metadata": {},
   "source": [
    "## Experiments on unseen speakers"
   ]
  },
  {
   "cell_type": "code",
   "execution_count": null,
   "metadata": {},
   "outputs": [],
   "source": [
    "paths = load_paths(\"output/synth-samples/unseen-k-test-magnus/\", \"data/grid/filelists/unseen-k-test.txt\")\n",
    "paths = paths[::10]\n",
    "feats = ese.extract_features(paths, args)"
   ]
  },
  {
   "cell_type": "code",
   "execution_count": null,
   "metadata": {},
   "outputs": [],
   "source": [
    "subjects = [os.path.dirname(path) for path in paths]\n",
    "num_subjects = len(set(subjects))\n",
    "print(num_subjects)"
   ]
  },
  {
   "cell_type": "code",
   "execution_count": null,
   "metadata": {},
   "outputs": [],
   "source": [
    "tsne = TSNE()\n",
    "Y = tsne.fit_transform(feats)"
   ]
  },
  {
   "cell_type": "code",
   "execution_count": null,
   "metadata": {},
   "outputs": [],
   "source": [
    "plt.figure(figsize=(4, 4))\n",
    "sns.set_palette(\"hls\", num_subjects)\n",
    "\n",
    "for i, s in enumerate(set(subjects)):\n",
    "    idxs = [s == t for t in subjects]\n",
    "    plt.scatter(Y[idxs, 0], Y[idxs, 1])\n",
    "    \n",
    "plt.xticks([])\n",
    "plt.yticks([])\n",
    "\n",
    "plt.savefig(\"/home/doneata/papers/2020-interspeech-xts/imgs/speaker-embeddings-baseline-unseen.pdf\", bbox_inches='tight')"
   ]
  }
 ],
 "metadata": {
  "kernelspec": {
   "display_name": "Python 3",
   "language": "python",
   "name": "python3"
  },
  "language_info": {
   "codemirror_mode": {
    "name": "ipython",
    "version": 3
   },
   "file_extension": ".py",
   "mimetype": "text/x-python",
   "name": "python",
   "nbconvert_exporter": "python",
   "pygments_lexer": "ipython3",
   "version": "3.6.9"
  }
 },
 "nbformat": 4,
 "nbformat_minor": 4
}
