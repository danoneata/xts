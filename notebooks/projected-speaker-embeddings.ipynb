{
 "cells": [
  {
   "cell_type": "markdown",
   "metadata": {},
   "source": [
    "For the speaker embedding models (SE and SE + D) we project the speaker embeddings to a lower manifold (32 dimensional) using a linear projection.\n",
    "In this notebook, we investigate whether the speaker information is preserved after this projection\n",
    "by looking at the 2-dimensional $t$-SNE projection of the speaker embeddings."
   ]
  },
  {
   "cell_type": "code",
   "execution_count": null,
   "metadata": {},
   "outputs": [],
   "source": [
    "%cd .."
   ]
  },
  {
   "cell_type": "code",
   "execution_count": null,
   "metadata": {},
   "outputs": [],
   "source": [
    "import random\n",
    "\n",
    "from sklearn.manifold import TSNE\n",
    "\n",
    "from matplotlib import pyplot as plt\n",
    "\n",
    "import numpy as np\n",
    "\n",
    "import seaborn as sns\n",
    "\n",
    "import torch\n",
    "\n",
    "from train import (\n",
    "    DATASET_PARAMETERS,\n",
    "    MODELS,\n",
    ")"
   ]
  },
  {
   "cell_type": "code",
   "execution_count": null,
   "metadata": {},
   "outputs": [],
   "source": [
    "def plot_proj_emb(embeddings_path, model_path):\n",
    "    model = MODELS[\"bjorn\"](DATASET_PARAMETERS[\"grid\"])\n",
    "    model.load_state_dict(torch.load(model_path))\n",
    "    _ = model.eval()\n",
    "\n",
    "    data_emb = np.load(embeddings_path)\n",
    "    feats = data_emb[\"feats\"]\n",
    "    speakers = [i.split()[1] for i in data_emb[\"ids\"]]\n",
    "    \n",
    "    num_feats = len(feats)\n",
    "    max_feats = 5_000\n",
    "    \n",
    "    if num_feats > max_feats:\n",
    "        idxs = random.sample(list(range(num_feats)), max_feats)\n",
    "        feats = feats[idxs]\n",
    "        speakers = [speakers[i] for i in idxs]\n",
    "\n",
    "    feats = torch.tensor(feats)\n",
    "    feats = feats.float()\n",
    "    feats = model.linear(feats)\n",
    "\n",
    "    X = feats.detach().numpy()\n",
    "    tsne = TSNE()\n",
    "    Y = tsne.fit_transform(X)\n",
    "\n",
    "    speakers_uniq = sorted(set(speakers))\n",
    "    sns.set_palette(\"hls\", len(speakers_uniq))\n",
    "\n",
    "    for s in speakers_uniq:\n",
    "        idxs = [s == t for t in speakers]\n",
    "        plt.scatter(Y[idxs, 0], Y[idxs, 1], label=s)\n",
    "\n",
    "    plt.legend(loc=\"center left\", bbox_to_anchor=(1, 0.5))"
   ]
  },
  {
   "cell_type": "code",
   "execution_count": null,
   "metadata": {},
   "outputs": [],
   "source": [
    "get_embeddings_path = lambda split: f\"data/grid/speaker-embeddings/multi-speaker-{split}.npz\"\n",
    "get_model_path = lambda name: f\"output/models/grid_multi-speaker_{name}_best.pth\"\n",
    "for m in \"bjorn bjorn_dispel\".split():\n",
    "    for s in \"train valid test\".split():\n",
    "        plt.figure()\n",
    "        plot_proj_emb(get_embeddings_path(s), get_model_path(m))\n",
    "        plt.title(m + \" \" + s)"
   ]
  }
 ],
 "metadata": {
  "kernelspec": {
   "display_name": "Python 3",
   "language": "python",
   "name": "python3"
  },
  "language_info": {
   "codemirror_mode": {
    "name": "ipython",
    "version": 3
   },
   "file_extension": ".py",
   "mimetype": "text/x-python",
   "name": "python",
   "nbconvert_exporter": "python",
   "pygments_lexer": "ipython3",
   "version": "3.7.4"
  }
 },
 "nbformat": 4,
 "nbformat_minor": 4
}
